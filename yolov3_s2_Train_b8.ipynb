{
  "nbformat": 4,
  "nbformat_minor": 0,
  "metadata": {
    "colab": {
      "name": "yolov3_s2_Train_b8.ipynb",
      "provenance": [],
      "collapsed_sections": [],
      "include_colab_link": true
    },
    "kernelspec": {
      "name": "python3",
      "display_name": "Python 3"
    },
    "accelerator": "GPU"
  },
  "cells": [
    {
      "cell_type": "markdown",
      "metadata": {
        "id": "view-in-github",
        "colab_type": "text"
      },
      "source": [
        "<a href=\"https://colab.research.google.com/github/leoclementliao/colab-yolov3/blob/master/yolov3_s2_Train_b8.ipynb\" target=\"_parent\"><img src=\"https://colab.research.google.com/assets/colab-badge.svg\" alt=\"Open In Colab\"/></a>"
      ]
    },
    {
      "cell_type": "code",
      "metadata": {
        "id": "Hkw1Ojza04mu",
        "colab_type": "code",
        "outputId": "ec2bbd37-e516-4403-a1c0-6f776eb9e2ea",
        "colab": {
          "base_uri": "https://localhost:8080/",
          "height": 315
        }
      },
      "source": [
        "!/opt/bin/nvidia-smi"
      ],
      "execution_count": 1,
      "outputs": [
        {
          "output_type": "stream",
          "text": [
            "Wed Apr 15 10:36:37 2020       \n",
            "+-----------------------------------------------------------------------------+\n",
            "| NVIDIA-SMI 418.67       Driver Version: 418.67       CUDA Version: 10.1     |\n",
            "|-------------------------------+----------------------+----------------------+\n",
            "| GPU  Name        Persistence-M| Bus-Id        Disp.A | Volatile Uncorr. ECC |\n",
            "| Fan  Temp  Perf  Pwr:Usage/Cap|         Memory-Usage | GPU-Util  Compute M. |\n",
            "|===============================+======================+======================|\n",
            "|   0  Tesla P100-PCIE...  Off  | 00000000:00:04.0 Off |                    0 |\n",
            "| N/A   34C    P0    27W / 250W |      0MiB / 16280MiB |      0%      Default |\n",
            "+-------------------------------+----------------------+----------------------+\n",
            "                                                                               \n",
            "+-----------------------------------------------------------------------------+\n",
            "| Processes:                                                       GPU Memory |\n",
            "|  GPU       PID   Type   Process name                             Usage      |\n",
            "|=============================================================================|\n",
            "|  No running processes found                                                 |\n",
            "+-----------------------------------------------------------------------------+\n"
          ],
          "name": "stdout"
        }
      ]
    },
    {
      "cell_type": "code",
      "metadata": {
        "id": "Kd_fE6Le6JPZ",
        "colab_type": "code",
        "outputId": "4706bc48-7e1f-48d2-a74a-5f9d8229e5d8",
        "colab": {
          "base_uri": "https://localhost:8080/",
          "height": 125
        }
      },
      "source": [
        "from google.colab import drive\n",
        "drive.mount('/content/drive')"
      ],
      "execution_count": 2,
      "outputs": [
        {
          "output_type": "stream",
          "text": [
            "Go to this URL in a browser: https://accounts.google.com/o/oauth2/auth?client_id=947318989803-6bn6qk8qdgf4n4g3pfee6491hc0brc4i.apps.googleusercontent.com&redirect_uri=urn%3aietf%3awg%3aoauth%3a2.0%3aoob&response_type=code&scope=email%20https%3a%2f%2fwww.googleapis.com%2fauth%2fdocs.test%20https%3a%2f%2fwww.googleapis.com%2fauth%2fdrive%20https%3a%2f%2fwww.googleapis.com%2fauth%2fdrive.photos.readonly%20https%3a%2f%2fwww.googleapis.com%2fauth%2fpeopleapi.readonly\n",
            "\n",
            "Enter your authorization code:\n",
            "··········\n",
            "Mounted at /content/drive\n"
          ],
          "name": "stdout"
        }
      ]
    },
    {
      "cell_type": "code",
      "metadata": {
        "id": "RIDVQ2Rg6j9j",
        "colab_type": "code",
        "outputId": "d51c40da-5aa7-4609-bf88-370746fe360b",
        "colab": {
          "base_uri": "https://localhost:8080/",
          "height": 1000
        }
      },
      "source": [
        "## git yolo3_tf2 and pip libraries\n",
        "# !git clone https://github.com/zzh8829/yolov3-tf2\n",
        "!git clone https://github.com/leoclementliao/yolov3-tf2\n",
        "%cd yolov3-tf2/\n",
        "!pip install -r requirements-gpu.txt\n",
        "\n",
        "## Copy tfrecord dataset\n",
        "% cp -r /content/drive/My\\ Drive/Colab\\ Notebooks/YoloV3/data /content/yolov3-tf2/data\n",
        "\n",
        "## Download yolov3 weight (12 minutes)\n",
        "!wget https://pjreddie.com/media/files/yolov3.weights -O data/yolov3.weights"
      ],
      "execution_count": 3,
      "outputs": [
        {
          "output_type": "stream",
          "text": [
            "Cloning into 'yolov3-tf2'...\n",
            "remote: Enumerating objects: 341, done.\u001b[K\n",
            "remote: Total 341 (delta 0), reused 0 (delta 0), pack-reused 341\u001b[K\n",
            "Receiving objects: 100% (341/341), 4.16 MiB | 6.88 MiB/s, done.\n",
            "Resolving deltas: 100% (198/198), done.\n",
            "/content/yolov3-tf2\n",
            "Obtaining file:///content/yolov3-tf2 (from -r requirements-gpu.txt (line 6))\n",
            "Collecting tensorflow-gpu==2.1.0\n",
            "\u001b[?25l  Downloading https://files.pythonhosted.org/packages/0a/93/c7bca39b23aae45cd2e85ad3871c81eccc63b9c5276e926511e2e5b0879d/tensorflow_gpu-2.1.0-cp36-cp36m-manylinux2010_x86_64.whl (421.8MB)\n",
            "\u001b[K     |████████████████████████████████| 421.8MB 40kB/s \n",
            "\u001b[?25hCollecting opencv-python==4.1.1.26\n",
            "\u001b[?25l  Downloading https://files.pythonhosted.org/packages/5e/7e/bd5425f4dacb73367fddc71388a47c1ea570839197c2bcad86478e565186/opencv_python-4.1.1.26-cp36-cp36m-manylinux1_x86_64.whl (28.7MB)\n",
            "\u001b[K     |████████████████████████████████| 28.7MB 110kB/s \n",
            "\u001b[?25hRequirement already satisfied: lxml in /usr/local/lib/python3.6/dist-packages (from -r requirements-gpu.txt (line 3)) (4.2.6)\n",
            "Requirement already satisfied: tqdm in /usr/local/lib/python3.6/dist-packages (from -r requirements-gpu.txt (line 4)) (4.38.0)\n",
            "Requirement already satisfied: wheel>=0.26; python_version >= \"3\" in /usr/local/lib/python3.6/dist-packages (from tensorflow-gpu==2.1.0->-r requirements-gpu.txt (line 1)) (0.34.2)\n",
            "Collecting gast==0.2.2\n",
            "  Downloading https://files.pythonhosted.org/packages/4e/35/11749bf99b2d4e3cceb4d55ca22590b0d7c2c62b9de38ac4a4a7f4687421/gast-0.2.2.tar.gz\n",
            "Requirement already satisfied: six>=1.12.0 in /usr/local/lib/python3.6/dist-packages (from tensorflow-gpu==2.1.0->-r requirements-gpu.txt (line 1)) (1.12.0)\n",
            "Requirement already satisfied: numpy<2.0,>=1.16.0 in /usr/local/lib/python3.6/dist-packages (from tensorflow-gpu==2.1.0->-r requirements-gpu.txt (line 1)) (1.18.2)\n",
            "Requirement already satisfied: grpcio>=1.8.6 in /usr/local/lib/python3.6/dist-packages (from tensorflow-gpu==2.1.0->-r requirements-gpu.txt (line 1)) (1.28.1)\n",
            "Requirement already satisfied: astor>=0.6.0 in /usr/local/lib/python3.6/dist-packages (from tensorflow-gpu==2.1.0->-r requirements-gpu.txt (line 1)) (0.8.1)\n",
            "Requirement already satisfied: protobuf>=3.8.0 in /usr/local/lib/python3.6/dist-packages (from tensorflow-gpu==2.1.0->-r requirements-gpu.txt (line 1)) (3.10.0)\n",
            "Requirement already satisfied: wrapt>=1.11.1 in /usr/local/lib/python3.6/dist-packages (from tensorflow-gpu==2.1.0->-r requirements-gpu.txt (line 1)) (1.12.1)\n",
            "Collecting tensorflow-estimator<2.2.0,>=2.1.0rc0\n",
            "\u001b[?25l  Downloading https://files.pythonhosted.org/packages/18/90/b77c328a1304437ab1310b463e533fa7689f4bfc41549593056d812fab8e/tensorflow_estimator-2.1.0-py2.py3-none-any.whl (448kB)\n",
            "\u001b[K     |████████████████████████████████| 450kB 50.9MB/s \n",
            "\u001b[?25hCollecting tensorboard<2.2.0,>=2.1.0\n",
            "\u001b[?25l  Downloading https://files.pythonhosted.org/packages/d9/41/bbf49b61370e4f4d245d4c6051dfb6db80cec672605c91b1652ac8cc3d38/tensorboard-2.1.1-py3-none-any.whl (3.8MB)\n",
            "\u001b[K     |████████████████████████████████| 3.9MB 44.0MB/s \n",
            "\u001b[?25hRequirement already satisfied: termcolor>=1.1.0 in /usr/local/lib/python3.6/dist-packages (from tensorflow-gpu==2.1.0->-r requirements-gpu.txt (line 1)) (1.1.0)\n",
            "Requirement already satisfied: scipy==1.4.1; python_version >= \"3\" in /usr/local/lib/python3.6/dist-packages (from tensorflow-gpu==2.1.0->-r requirements-gpu.txt (line 1)) (1.4.1)\n",
            "Requirement already satisfied: keras-preprocessing>=1.1.0 in /usr/local/lib/python3.6/dist-packages (from tensorflow-gpu==2.1.0->-r requirements-gpu.txt (line 1)) (1.1.0)\n",
            "Requirement already satisfied: google-pasta>=0.1.6 in /usr/local/lib/python3.6/dist-packages (from tensorflow-gpu==2.1.0->-r requirements-gpu.txt (line 1)) (0.2.0)\n",
            "Requirement already satisfied: absl-py>=0.7.0 in /usr/local/lib/python3.6/dist-packages (from tensorflow-gpu==2.1.0->-r requirements-gpu.txt (line 1)) (0.9.0)\n",
            "Requirement already satisfied: keras-applications>=1.0.8 in /usr/local/lib/python3.6/dist-packages (from tensorflow-gpu==2.1.0->-r requirements-gpu.txt (line 1)) (1.0.8)\n",
            "Requirement already satisfied: opt-einsum>=2.3.2 in /usr/local/lib/python3.6/dist-packages (from tensorflow-gpu==2.1.0->-r requirements-gpu.txt (line 1)) (3.2.0)\n",
            "Requirement already satisfied: setuptools in /usr/local/lib/python3.6/dist-packages (from protobuf>=3.8.0->tensorflow-gpu==2.1.0->-r requirements-gpu.txt (line 1)) (46.1.3)\n",
            "Requirement already satisfied: google-auth-oauthlib<0.5,>=0.4.1 in /usr/local/lib/python3.6/dist-packages (from tensorboard<2.2.0,>=2.1.0->tensorflow-gpu==2.1.0->-r requirements-gpu.txt (line 1)) (0.4.1)\n",
            "Requirement already satisfied: werkzeug>=0.11.15 in /usr/local/lib/python3.6/dist-packages (from tensorboard<2.2.0,>=2.1.0->tensorflow-gpu==2.1.0->-r requirements-gpu.txt (line 1)) (1.0.1)\n",
            "Requirement already satisfied: google-auth<2,>=1.6.3 in /usr/local/lib/python3.6/dist-packages (from tensorboard<2.2.0,>=2.1.0->tensorflow-gpu==2.1.0->-r requirements-gpu.txt (line 1)) (1.7.2)\n",
            "Requirement already satisfied: requests<3,>=2.21.0 in /usr/local/lib/python3.6/dist-packages (from tensorboard<2.2.0,>=2.1.0->tensorflow-gpu==2.1.0->-r requirements-gpu.txt (line 1)) (2.21.0)\n",
            "Requirement already satisfied: markdown>=2.6.8 in /usr/local/lib/python3.6/dist-packages (from tensorboard<2.2.0,>=2.1.0->tensorflow-gpu==2.1.0->-r requirements-gpu.txt (line 1)) (3.2.1)\n",
            "Requirement already satisfied: h5py in /usr/local/lib/python3.6/dist-packages (from keras-applications>=1.0.8->tensorflow-gpu==2.1.0->-r requirements-gpu.txt (line 1)) (2.10.0)\n",
            "Requirement already satisfied: requests-oauthlib>=0.7.0 in /usr/local/lib/python3.6/dist-packages (from google-auth-oauthlib<0.5,>=0.4.1->tensorboard<2.2.0,>=2.1.0->tensorflow-gpu==2.1.0->-r requirements-gpu.txt (line 1)) (1.3.0)\n",
            "Requirement already satisfied: rsa<4.1,>=3.1.4 in /usr/local/lib/python3.6/dist-packages (from google-auth<2,>=1.6.3->tensorboard<2.2.0,>=2.1.0->tensorflow-gpu==2.1.0->-r requirements-gpu.txt (line 1)) (4.0)\n",
            "Requirement already satisfied: pyasn1-modules>=0.2.1 in /usr/local/lib/python3.6/dist-packages (from google-auth<2,>=1.6.3->tensorboard<2.2.0,>=2.1.0->tensorflow-gpu==2.1.0->-r requirements-gpu.txt (line 1)) (0.2.8)\n",
            "Requirement already satisfied: cachetools<3.2,>=2.0.0 in /usr/local/lib/python3.6/dist-packages (from google-auth<2,>=1.6.3->tensorboard<2.2.0,>=2.1.0->tensorflow-gpu==2.1.0->-r requirements-gpu.txt (line 1)) (3.1.1)\n",
            "Requirement already satisfied: idna<2.9,>=2.5 in /usr/local/lib/python3.6/dist-packages (from requests<3,>=2.21.0->tensorboard<2.2.0,>=2.1.0->tensorflow-gpu==2.1.0->-r requirements-gpu.txt (line 1)) (2.8)\n",
            "Requirement already satisfied: certifi>=2017.4.17 in /usr/local/lib/python3.6/dist-packages (from requests<3,>=2.21.0->tensorboard<2.2.0,>=2.1.0->tensorflow-gpu==2.1.0->-r requirements-gpu.txt (line 1)) (2020.4.5.1)\n",
            "Requirement already satisfied: urllib3<1.25,>=1.21.1 in /usr/local/lib/python3.6/dist-packages (from requests<3,>=2.21.0->tensorboard<2.2.0,>=2.1.0->tensorflow-gpu==2.1.0->-r requirements-gpu.txt (line 1)) (1.24.3)\n",
            "Requirement already satisfied: chardet<3.1.0,>=3.0.2 in /usr/local/lib/python3.6/dist-packages (from requests<3,>=2.21.0->tensorboard<2.2.0,>=2.1.0->tensorflow-gpu==2.1.0->-r requirements-gpu.txt (line 1)) (3.0.4)\n",
            "Requirement already satisfied: oauthlib>=3.0.0 in /usr/local/lib/python3.6/dist-packages (from requests-oauthlib>=0.7.0->google-auth-oauthlib<0.5,>=0.4.1->tensorboard<2.2.0,>=2.1.0->tensorflow-gpu==2.1.0->-r requirements-gpu.txt (line 1)) (3.1.0)\n",
            "Requirement already satisfied: pyasn1>=0.1.3 in /usr/local/lib/python3.6/dist-packages (from rsa<4.1,>=3.1.4->google-auth<2,>=1.6.3->tensorboard<2.2.0,>=2.1.0->tensorflow-gpu==2.1.0->-r requirements-gpu.txt (line 1)) (0.4.8)\n",
            "Building wheels for collected packages: gast\n",
            "  Building wheel for gast (setup.py) ... \u001b[?25l\u001b[?25hdone\n",
            "  Created wheel for gast: filename=gast-0.2.2-cp36-none-any.whl size=7540 sha256=c39617eed0900206cc4821547a4328247a28e5b131eb9bb5a587a9ff66f81d86\n",
            "  Stored in directory: /root/.cache/pip/wheels/5c/2e/7e/a1d4d4fcebe6c381f378ce7743a3ced3699feb89bcfbdadadd\n",
            "Successfully built gast\n",
            "\u001b[31mERROR: tensorflow 2.2.0rc2 has requirement gast==0.3.3, but you'll have gast 0.2.2 which is incompatible.\u001b[0m\n",
            "\u001b[31mERROR: tensorflow 2.2.0rc2 has requirement tensorboard<2.3.0,>=2.2.0, but you'll have tensorboard 2.1.1 which is incompatible.\u001b[0m\n",
            "\u001b[31mERROR: tensorflow 2.2.0rc2 has requirement tensorflow-estimator<2.3.0,>=2.2.0rc0, but you'll have tensorflow-estimator 2.1.0 which is incompatible.\u001b[0m\n",
            "\u001b[31mERROR: albumentations 0.1.12 has requirement imgaug<0.2.7,>=0.2.5, but you'll have imgaug 0.2.9 which is incompatible.\u001b[0m\n",
            "Installing collected packages: gast, tensorflow-estimator, tensorboard, tensorflow-gpu, opencv-python, yolov3-tf2\n",
            "  Found existing installation: gast 0.3.3\n",
            "    Uninstalling gast-0.3.3:\n",
            "      Successfully uninstalled gast-0.3.3\n",
            "  Found existing installation: tensorflow-estimator 2.2.0rc0\n",
            "    Uninstalling tensorflow-estimator-2.2.0rc0:\n",
            "      Successfully uninstalled tensorflow-estimator-2.2.0rc0\n",
            "  Found existing installation: tensorboard 2.2.0\n",
            "    Uninstalling tensorboard-2.2.0:\n",
            "      Successfully uninstalled tensorboard-2.2.0\n",
            "  Found existing installation: opencv-python 4.1.2.30\n",
            "    Uninstalling opencv-python-4.1.2.30:\n",
            "      Successfully uninstalled opencv-python-4.1.2.30\n",
            "  Running setup.py develop for yolov3-tf2\n",
            "Successfully installed gast-0.2.2 opencv-python-4.1.1.26 tensorboard-2.1.1 tensorflow-estimator-2.1.0 tensorflow-gpu-2.1.0 yolov3-tf2\n",
            "--2020-04-15 10:39:29--  https://pjreddie.com/media/files/yolov3.weights\n",
            "Resolving pjreddie.com (pjreddie.com)... 128.208.4.108\n",
            "Connecting to pjreddie.com (pjreddie.com)|128.208.4.108|:443... connected.\n",
            "HTTP request sent, awaiting response... 200 OK\n",
            "Length: 248007048 (237M) [application/octet-stream]\n",
            "Saving to: ‘data/yolov3.weights’\n",
            "\n",
            "data/yolov3.weights 100%[===================>] 236.52M   197KB/s    in 26m 37s \n",
            "\n",
            "2020-04-15 11:06:08 (152 KB/s) - ‘data/yolov3.weights’ saved [248007048/248007048]\n",
            "\n"
          ],
          "name": "stdout"
        }
      ]
    },
    {
      "cell_type": "code",
      "metadata": {
        "id": "0Q7eWma17uCq",
        "colab_type": "code",
        "outputId": "3351222a-a57b-46ee-cec3-74b474ec7d73",
        "colab": {
          "base_uri": "https://localhost:8080/",
          "height": 35
        }
      },
      "source": [
        "## Training parameters\n",
        "epochs = 60\n",
        "batch_size = 8\n",
        "learning_rate = 1e-3\n",
        "image_size = 416\n",
        "weights_dir = '/content/yolov3-tf2/data/yolov3.weights'\n",
        "checkpoint_dir = '/content/yolov3-tf2/checkpoints/yolov3.tf'\n",
        "\n",
        "## Dataset directory\n",
        "train_dir = '/content/yolov3-tf2/data/data/voc2009_train.tfrecord'\n",
        "val_dir = '/content/yolov3-tf2/data/data/voc2009_val.tfrecord'\n",
        "classes_dir = \"/content/yolov3-tf2/data/data/voc2009.name\"\n",
        "\n",
        "## Load class names\n",
        "class_names = []\n",
        "with open(classes_dir, \"r\") as f:\n",
        "    for s in f:\n",
        "        class_names.append(s[:-1])\n",
        "\n",
        "num_classes = len(class_names)\n",
        "print(f'{num_classes} classes')\n"
      ],
      "execution_count": 22,
      "outputs": [
        {
          "output_type": "stream",
          "text": [
            "20 classes\n"
          ],
          "name": "stdout"
        }
      ]
    },
    {
      "cell_type": "code",
      "metadata": {
        "id": "O5G5lSBShMTP",
        "colab_type": "code",
        "colab": {}
      },
      "source": [
        "! ls /content/yolov3-tf2/checkpoints"
      ],
      "execution_count": 0,
      "outputs": []
    },
    {
      "cell_type": "code",
      "metadata": {
        "id": "pzHH2Z3V6PSw",
        "colab_type": "code",
        "colab": {}
      },
      "source": [
        "import sys\n",
        "from absl import app, logging, flags\n",
        "from absl.flags import FLAGS\n",
        "import time\n",
        "import cv2\n",
        "import numpy as np\n",
        "import tensorflow as tf\n",
        "from tensorflow.keras.callbacks import (\n",
        "    ReduceLROnPlateau,\n",
        "    EarlyStopping,\n",
        "    ModelCheckpoint,\n",
        "    TensorBoard,\n",
        "    LearningRateScheduler\n",
        ")\n",
        "\n",
        "from yolov3_tf2.dataset import transform_images, load_tfrecord_dataset\n",
        "import yolov3_tf2.dataset as dataset\n",
        "from yolov3_tf2.utils import draw_outputs, load_darknet_weights, freeze_all\n",
        "from yolov3_tf2.models import (\n",
        "    YoloV3, YoloV3Tiny, YoloLoss,\n",
        "    yolo_anchors, yolo_anchor_masks,\n",
        "    yolo_tiny_anchors, yolo_tiny_anchor_masks\n",
        ")\n",
        "from yolov3_tf2.utils import freeze_all\n",
        "from google.colab.patches import cv2_imshow\n",
        "\n",
        "flags.DEFINE_string('classes', './data/coco.names', 'path to classes file')\n",
        "flags.DEFINE_string('weights', './checkpoints/yolov3.tf',\n",
        "                    'path to weights file')\n",
        "flags.DEFINE_boolean('tiny', False, 'yolov3 or yolov3-tiny')\n",
        "flags.DEFINE_integer('size', 416, 'resize images to')\n",
        "flags.DEFINE_string('image', './data/girl.png', 'path to input image')\n",
        "flags.DEFINE_string('tfrecord', None, 'tfrecord instead of image')\n",
        "flags.DEFINE_string('output', './output.jpg', 'path to output image')\n",
        "flags.DEFINE_integer('num_classes', 80, 'number of classes in the model')\n",
        "\n",
        "app._run_init(['yolov3'], app.parse_flags_with_usage)\n",
        "\n",
        "physical_devices = tf.config.experimental.list_physical_devices('GPU')\n",
        "tf.config.experimental.set_memory_growth(physical_devices[0], True)"
      ],
      "execution_count": 0,
      "outputs": []
    },
    {
      "cell_type": "code",
      "metadata": {
        "id": "5p5P9xMyRmWP",
        "colab_type": "code",
        "colab": {}
      },
      "source": [
        "anchors = yolo_anchors\n",
        "anchor_masks = yolo_anchor_masks"
      ],
      "execution_count": 0,
      "outputs": []
    },
    {
      "cell_type": "code",
      "metadata": {
        "id": "5Pv2zld_WBFM",
        "colab_type": "code",
        "outputId": "c6598cae-e37b-4be4-a8d6-1633dabb978b",
        "colab": {
          "base_uri": "https://localhost:8080/",
          "height": 55
        }
      },
      "source": [
        "train_dataset = load_tfrecord_dataset(train_dir, classes_dir, size=image_size)\n",
        "train_dataset = train_dataset.shuffle(buffer_size=512)\n",
        "train_dataset = train_dataset.batch(batch_size)\n",
        "train_dataset = train_dataset.map(lambda x, y: (\n",
        "    dataset.transform_images(x, image_size),\n",
        "    dataset.transform_targets(y, anchors, anchor_masks, image_size)))\n",
        "train_dataset = train_dataset.prefetch(\n",
        "    buffer_size=tf.data.experimental.AUTOTUNE)\n",
        "train_dataset = train_dataset.repeat()\n",
        "\n",
        "\n",
        "val_dataset = load_tfrecord_dataset(val_dir, classes_dir, size=image_size)\n",
        "val_dataset = val_dataset.batch(batch_size)\n",
        "val_dataset = val_dataset.map(lambda x, y: (\n",
        "    dataset.transform_images(x, image_size),\n",
        "    dataset.transform_targets(y, anchors, anchor_masks, image_size)))\n",
        "\n",
        "train_dataset"
      ],
      "execution_count": 8,
      "outputs": [
        {
          "output_type": "execute_result",
          "data": {
            "text/plain": [
              "<RepeatDataset shapes: ((None, 416, 416, 3), ((None, 13, 13, 3, 6), (None, 26, 26, 3, 6), (None, 52, 52, 3, 6))), types: (tf.float32, (tf.float32, tf.float32, tf.float32))>"
            ]
          },
          "metadata": {
            "tags": []
          },
          "execution_count": 8
        }
      ]
    },
    {
      "cell_type": "code",
      "metadata": {
        "id": "CCypz8ggR2Tu",
        "colab_type": "code",
        "colab": {}
      },
      "source": [
        "## Load model\n",
        "# !python convert.py\n"
      ],
      "execution_count": 0,
      "outputs": []
    },
    {
      "cell_type": "code",
      "metadata": {
        "id": "xj93pSjTYkYK",
        "colab_type": "code",
        "outputId": "1420b2e1-3239-4138-8de1-b8a10349529a",
        "colab": {
          "base_uri": "https://localhost:8080/",
          "height": 1000
        }
      },
      "source": [
        "## Load model and save checkpoint files (convert pretrain model weight)\n",
        "model_pretrained = YoloV3(classes=80) # The pretrain model is on coco dataset\n",
        "load_darknet_weights(model_pretrained, weights_dir, tiny=False)\n",
        "model_pretrained.save_weights(checkpoint_dir)"
      ],
      "execution_count": 9,
      "outputs": [
        {
          "output_type": "stream",
          "text": [
            "I0415 11:24:58.504523 139688842545024 utils.py:45] yolo_darknet/conv2d bn\n",
            "I0415 11:24:58.510355 139688842545024 utils.py:45] yolo_darknet/conv2d_1 bn\n",
            "I0415 11:24:58.515459 139688842545024 utils.py:45] yolo_darknet/conv2d_2 bn\n",
            "I0415 11:24:58.520094 139688842545024 utils.py:45] yolo_darknet/conv2d_3 bn\n",
            "I0415 11:24:58.524481 139688842545024 utils.py:45] yolo_darknet/conv2d_4 bn\n",
            "I0415 11:24:58.529222 139688842545024 utils.py:45] yolo_darknet/conv2d_5 bn\n",
            "I0415 11:24:58.533304 139688842545024 utils.py:45] yolo_darknet/conv2d_6 bn\n",
            "I0415 11:24:58.537846 139688842545024 utils.py:45] yolo_darknet/conv2d_7 bn\n",
            "I0415 11:24:58.541917 139688842545024 utils.py:45] yolo_darknet/conv2d_8 bn\n",
            "I0415 11:24:58.546169 139688842545024 utils.py:45] yolo_darknet/conv2d_9 bn\n",
            "I0415 11:24:58.554874 139688842545024 utils.py:45] yolo_darknet/conv2d_10 bn\n",
            "I0415 11:24:58.559793 139688842545024 utils.py:45] yolo_darknet/conv2d_11 bn\n",
            "I0415 11:24:58.565318 139688842545024 utils.py:45] yolo_darknet/conv2d_12 bn\n",
            "I0415 11:24:58.570240 139688842545024 utils.py:45] yolo_darknet/conv2d_13 bn\n",
            "I0415 11:24:58.575685 139688842545024 utils.py:45] yolo_darknet/conv2d_14 bn\n",
            "I0415 11:24:58.580002 139688842545024 utils.py:45] yolo_darknet/conv2d_15 bn\n",
            "I0415 11:24:58.585440 139688842545024 utils.py:45] yolo_darknet/conv2d_16 bn\n",
            "I0415 11:24:58.590181 139688842545024 utils.py:45] yolo_darknet/conv2d_17 bn\n",
            "I0415 11:24:58.595983 139688842545024 utils.py:45] yolo_darknet/conv2d_18 bn\n",
            "I0415 11:24:58.600625 139688842545024 utils.py:45] yolo_darknet/conv2d_19 bn\n",
            "I0415 11:24:58.606830 139688842545024 utils.py:45] yolo_darknet/conv2d_20 bn\n",
            "I0415 11:24:58.612000 139688842545024 utils.py:45] yolo_darknet/conv2d_21 bn\n",
            "I0415 11:24:58.617463 139688842545024 utils.py:45] yolo_darknet/conv2d_22 bn\n",
            "I0415 11:24:58.621962 139688842545024 utils.py:45] yolo_darknet/conv2d_23 bn\n",
            "I0415 11:24:58.627825 139688842545024 utils.py:45] yolo_darknet/conv2d_24 bn\n",
            "I0415 11:24:58.632750 139688842545024 utils.py:45] yolo_darknet/conv2d_25 bn\n",
            "I0415 11:24:58.638674 139688842545024 utils.py:45] yolo_darknet/conv2d_26 bn\n",
            "I0415 11:24:58.651095 139688842545024 utils.py:45] yolo_darknet/conv2d_27 bn\n",
            "I0415 11:24:58.657227 139688842545024 utils.py:45] yolo_darknet/conv2d_28 bn\n",
            "I0415 11:24:58.667776 139688842545024 utils.py:45] yolo_darknet/conv2d_29 bn\n",
            "I0415 11:24:58.673888 139688842545024 utils.py:45] yolo_darknet/conv2d_30 bn\n",
            "I0415 11:24:58.685074 139688842545024 utils.py:45] yolo_darknet/conv2d_31 bn\n",
            "I0415 11:24:58.690284 139688842545024 utils.py:45] yolo_darknet/conv2d_32 bn\n",
            "I0415 11:24:58.699548 139688842545024 utils.py:45] yolo_darknet/conv2d_33 bn\n",
            "I0415 11:24:58.704461 139688842545024 utils.py:45] yolo_darknet/conv2d_34 bn\n",
            "I0415 11:24:58.714795 139688842545024 utils.py:45] yolo_darknet/conv2d_35 bn\n",
            "I0415 11:24:58.720103 139688842545024 utils.py:45] yolo_darknet/conv2d_36 bn\n",
            "I0415 11:24:58.730464 139688842545024 utils.py:45] yolo_darknet/conv2d_37 bn\n",
            "I0415 11:24:58.736636 139688842545024 utils.py:45] yolo_darknet/conv2d_38 bn\n",
            "I0415 11:24:58.747198 139688842545024 utils.py:45] yolo_darknet/conv2d_39 bn\n",
            "I0415 11:24:58.753157 139688842545024 utils.py:45] yolo_darknet/conv2d_40 bn\n",
            "I0415 11:24:58.762802 139688842545024 utils.py:45] yolo_darknet/conv2d_41 bn\n",
            "I0415 11:24:58.768547 139688842545024 utils.py:45] yolo_darknet/conv2d_42 bn\n",
            "I0415 11:24:58.779052 139688842545024 utils.py:45] yolo_darknet/conv2d_43 bn\n",
            "I0415 11:24:58.827323 139688842545024 utils.py:45] yolo_darknet/conv2d_44 bn\n",
            "I0415 11:24:58.836513 139688842545024 utils.py:45] yolo_darknet/conv2d_45 bn\n",
            "I0415 11:24:58.871148 139688842545024 utils.py:45] yolo_darknet/conv2d_46 bn\n",
            "I0415 11:24:58.879634 139688842545024 utils.py:45] yolo_darknet/conv2d_47 bn\n",
            "I0415 11:24:58.915673 139688842545024 utils.py:45] yolo_darknet/conv2d_48 bn\n",
            "I0415 11:24:58.924736 139688842545024 utils.py:45] yolo_darknet/conv2d_49 bn\n",
            "I0415 11:24:58.960025 139688842545024 utils.py:45] yolo_darknet/conv2d_50 bn\n",
            "I0415 11:24:58.970291 139688842545024 utils.py:45] yolo_darknet/conv2d_51 bn\n",
            "I0415 11:24:59.006565 139688842545024 utils.py:45] yolo_conv_0/conv2d_52 bn\n",
            "I0415 11:24:59.013794 139688842545024 utils.py:45] yolo_conv_0/conv2d_53 bn\n",
            "I0415 11:24:59.046853 139688842545024 utils.py:45] yolo_conv_0/conv2d_54 bn\n",
            "I0415 11:24:59.055815 139688842545024 utils.py:45] yolo_conv_0/conv2d_55 bn\n",
            "I0415 11:24:59.091287 139688842545024 utils.py:45] yolo_conv_0/conv2d_56 bn\n",
            "I0415 11:24:59.099319 139688842545024 utils.py:45] yolo_output_0/conv2d_57 bn\n",
            "I0415 11:24:59.134328 139688842545024 utils.py:45] yolo_output_0/conv2d_58 bias\n",
            "I0415 11:24:59.139873 139688842545024 utils.py:45] yolo_conv_1/conv2d_59 bn\n",
            "I0415 11:24:59.144883 139688842545024 utils.py:45] yolo_conv_1/conv2d_60 bn\n",
            "I0415 11:24:59.148942 139688842545024 utils.py:45] yolo_conv_1/conv2d_61 bn\n",
            "I0415 11:24:59.158560 139688842545024 utils.py:45] yolo_conv_1/conv2d_62 bn\n",
            "I0415 11:24:59.163380 139688842545024 utils.py:45] yolo_conv_1/conv2d_63 bn\n",
            "I0415 11:24:59.173107 139688842545024 utils.py:45] yolo_conv_1/conv2d_64 bn\n",
            "I0415 11:24:59.177023 139688842545024 utils.py:45] yolo_output_1/conv2d_65 bn\n",
            "I0415 11:24:59.185305 139688842545024 utils.py:45] yolo_output_1/conv2d_66 bias\n",
            "I0415 11:24:59.189316 139688842545024 utils.py:45] yolo_conv_2/conv2d_67 bn\n",
            "I0415 11:24:59.193592 139688842545024 utils.py:45] yolo_conv_2/conv2d_68 bn\n",
            "I0415 11:24:59.197775 139688842545024 utils.py:45] yolo_conv_2/conv2d_69 bn\n",
            "I0415 11:24:59.202320 139688842545024 utils.py:45] yolo_conv_2/conv2d_70 bn\n",
            "I0415 11:24:59.206169 139688842545024 utils.py:45] yolo_conv_2/conv2d_71 bn\n",
            "I0415 11:24:59.211769 139688842545024 utils.py:45] yolo_conv_2/conv2d_72 bn\n",
            "I0415 11:24:59.216420 139688842545024 utils.py:45] yolo_output_2/conv2d_73 bn\n",
            "I0415 11:24:59.222246 139688842545024 utils.py:45] yolo_output_2/conv2d_74 bias\n"
          ],
          "name": "stderr"
        }
      ]
    },
    {
      "cell_type": "code",
      "metadata": {
        "id": "sJ2dc-doleTI",
        "colab_type": "code",
        "colab": {
          "base_uri": "https://localhost:8080/",
          "height": 581
        },
        "outputId": "4a29e000-2081-4d60-97ae-56993e1bc16f"
      },
      "source": [
        "tf.keras.utils.plot_model(model_pretrained, show_shapes=True, dpi=64)"
      ],
      "execution_count": 12,
      "outputs": [
        {
          "output_type": "execute_result",
          "data": {
            "image/png": "[encoded data removed]",
            "text/plain": [
              "<IPython.core.display.Image object>"
            ]
          },
          "metadata": {
            "tags": []
          },
          "execution_count": 12
        }
      ]
    },
    {
      "cell_type": "code",
      "metadata": {
        "id": "0JcfuKkNixYB",
        "colab_type": "code",
        "colab": {}
      },
      "source": [
        "## Load darknet weight in the model\n",
        "model = YoloV3(size=image_size, classes=num_classes, training=True,)\n",
        "# model.get_layer('yolo_darknet').set_weights(\n",
        "#                 model_pretrained.get_layer('yolo_darknet').get_weights())\n",
        "# freeze_all(model.get_layer('yolo_darknet'))\n",
        "\n"
      ],
      "execution_count": 0,
      "outputs": []
    },
    {
      "cell_type": "code",
      "metadata": {
        "id": "wmR2-b8VFj6_",
        "colab_type": "code",
        "outputId": "78e314fc-0a92-4521-9597-f84d08aabe95",
        "colab": {
          "base_uri": "https://localhost:8080/",
          "height": 35
        }
      },
      "source": [
        "def lr_schedule(epoch):\n",
        "    \n",
        "    lr = 1e-3\n",
        "    \n",
        "    lr = 0.5*(1+np.cos((epoch/epochs)*np.pi))*lr\n",
        "    print('Learning rate: ', lr)\n",
        "    return lr\n",
        "lr_scheduler = LearningRateScheduler(lr_schedule, verbose=1)\n",
        "\n",
        "optimizer = tf.keras.optimizers.Adam(lr=lr_schedule(0), amsgrad=True)\n",
        "learning_rate_reduction = ReduceLROnPlateau(monitor=f'loss', \n",
        "                                            patience=3, verbose=1,\n",
        "                                            factor=0.5, min_lr=1e-5)"
      ],
      "execution_count": 25,
      "outputs": [
        {
          "output_type": "stream",
          "text": [
            "Learning rate:  0.001\n"
          ],
          "name": "stdout"
        }
      ]
    },
    {
      "cell_type": "code",
      "metadata": {
        "id": "74I718w7HO3d",
        "colab_type": "code",
        "colab": {}
      },
      "source": [
        ""
      ],
      "execution_count": 0,
      "outputs": []
    },
    {
      "cell_type": "code",
      "metadata": {
        "id": "v6BjFRscjHkT",
        "colab_type": "code",
        "colab": {}
      },
      "source": [
        "# optimizer = tf.keras.optimizers.Adam(lr=learning_rate)\n",
        "loss = [YoloLoss(anchors[mask], classes=num_classes) for mask in anchor_masks]\n",
        "\n",
        "model.compile(optimizer=optimizer, loss=loss)\n",
        "\n",
        "callbacks = [\n",
        "    learning_rate_reduction,\n",
        "    lr_scheduler,\n",
        "    # EarlyStopping(patience=3, verbose=1),\n",
        "    # ModelCheckpoint('/content/yolov3-tf2/checkpoints/yolov3_train_{epoch}.tf',\n",
        "    #                 verbose=1, save_weights_only=True),\n",
        "    # TensorBoard(log_dir='logs')\n",
        "]\n"
      ],
      "execution_count": 0,
      "outputs": []
    },
    {
      "cell_type": "code",
      "metadata": {
        "id": "0XwGPyVTjHsM",
        "colab_type": "code",
        "outputId": "85212db5-0d43-4dd6-ddc3-2341dbd060dc",
        "colab": {
          "base_uri": "https://localhost:8080/",
          "height": 142
        }
      },
      "source": [
        "history = model.fit(train_dataset,\n",
        "                    validation_data=val_dataset,\n",
        "                    steps_per_epoch= 3480// batch_size,\n",
        "                    validation_steps = 448//batch_size,\n",
        "                    epochs=epochs,\n",
        "                    callbacks=callbacks,\n",
        "                    )\n",
        "trained_checkpoint_dir = '/content/yolov3-tf2/checkpoints/yolov3_train.tf'\n",
        "model.save_weights(trained_checkpoint_dir)"
      ],
      "execution_count": 0,
      "outputs": [
        {
          "output_type": "stream",
          "text": [
            "Train for 435 steps, validate for 56 steps\n",
            "Learning rate:  0.001\n",
            "\n",
            "Epoch 00001: LearningRateScheduler reducing learning rate to 0.001.\n",
            "Epoch 1/60\n",
            "200/435 [============>.................] - ETA: 2:46 - loss: 455.7888 - yolo_output_0_loss: 41.6829 - yolo_output_1_loss: 79.6271 - yolo_output_2_loss: 321.6967"
          ],
          "name": "stdout"
        }
      ]
    },
    {
      "cell_type": "code",
      "metadata": {
        "id": "quPkv7wy1I2P",
        "colab_type": "code",
        "colab": {}
      },
      "source": [
        "yolo = YoloV3(classes=num_classes)\n",
        "yolo.load_weights(trained_checkpoint_dir).expect_partial()\n",
        "# yolo.load_weights('/content/yolov3-tf2/checkpoints/yolov3_train_3.tf').expect_partial()\n"
      ],
      "execution_count": 0,
      "outputs": []
    },
    {
      "cell_type": "code",
      "metadata": {
        "id": "CRnFEHECjHn_",
        "colab_type": "code",
        "colab": {}
      },
      "source": [
        "# from google.colab.patches import cv2_imshow\n",
        "i = 141\n",
        "\n",
        "dataset = load_tfrecord_dataset(val_dir, classes_dir, size=image_size)\n",
        "for image, labels in dataset.take(i):\n",
        "    boxes = []\n",
        "    scores = []\n",
        "    classes = []\n",
        "    img = tf.expand_dims(image, 0)\n",
        "    img = transform_images(img, FLAGS.size)\n",
        "    boxes, scores, classes, nums = yolo(img)\n",
        "    img = cv2.cvtColor(image.numpy(), cv2.COLOR_RGB2BGR)\n",
        "    img = draw_outputs(img, (boxes, scores, classes, nums), class_names)\n",
        "cv2_imshow(img)\n",
        "\n",
        "dataset = load_tfrecord_dataset(val_dir, classes_dir, size=image_size)\n",
        "for image, labels in dataset.take(i):\n",
        "    boxes = []\n",
        "    scores = []\n",
        "    classes = []\n",
        "    for x1, y1, x2, y2, label in labels:\n",
        "        if x1 == 0 and x2 == 0:\n",
        "            continue\n",
        "        boxes.append((x1, y1, x2, y2))\n",
        "        scores.append(1)\n",
        "        classes.append(label)\n",
        "    nums = [len(boxes)]\n",
        "    boxes = [boxes]\n",
        "    scores = [scores]\n",
        "    classes = [classes]\n",
        "\n",
        "    img = cv2.cvtColor(image.numpy(), cv2.COLOR_RGB2BGR)\n",
        "    img = draw_outputs(img, (boxes, scores, classes, nums), class_names)\n",
        "cv2_imshow(img)"
      ],
      "execution_count": 0,
      "outputs": []
    },
    {
      "cell_type": "code",
      "metadata": {
        "id": "kKC8rtAR0Fq1",
        "colab_type": "code",
        "colab": {}
      },
      "source": [
        "FLAGS.image = '/content/yolov3-tf2/data/girl.png'\n",
        "FLAGS.image = '/content/yolov3-tf2/data/meme2.jpeg'\n",
        "\n",
        "img_raw = tf.image.decode_image(\n",
        "    open(FLAGS.image, 'rb').read(), channels=3)\n",
        "\n",
        "img = tf.expand_dims(img_raw, 0)\n",
        "img = transform_images(img, FLAGS.size)\n",
        "\n",
        "boxes, scores, classes, nums = yolo(img)\n",
        "\n",
        "img = cv2.cvtColor(img_raw.numpy(), cv2.COLOR_RGB2BGR)\n",
        "img = draw_outputs(img, (boxes, scores, classes, nums), class_names)\n",
        "\n",
        "cv2_imshow(img)"
      ],
      "execution_count": 0,
      "outputs": []
    },
    {
      "cell_type": "code",
      "metadata": {
        "id": "AGjNMqo8eISb",
        "colab_type": "code",
        "colab": {}
      },
      "source": [
        "# YOLOV3_LAYER_LIST = [\n",
        "#     'yolo_darknet',\n",
        "#     'yolo_conv_0',\n",
        "#     'yolo_output_0',\n",
        "#     'yolo_conv_1',\n",
        "#     'yolo_output_1',\n",
        "#     'yolo_conv_2',\n",
        "#     'yolo_output_2',\n",
        "# ]\n",
        "\n",
        "# YOLOV3_TINY_LAYER_LIST = [\n",
        "#     'yolo_darknet',\n",
        "#     'yolo_conv_0',\n",
        "#     'yolo_output_0',\n",
        "#     'yolo_conv_1',\n",
        "#     'yolo_output_1',\n",
        "# ]\n",
        "\n",
        "# def load_darknet_weights(model, weights_file, tiny=False):\n",
        "#     wf = open(weights_file, 'rb')\n",
        "#     major, minor, revision, seen, _ = np.fromfile(wf, dtype=np.int32, count=5)\n",
        "\n",
        "#     if tiny:\n",
        "#         layers = YOLOV3_TINY_LAYER_LIST\n",
        "#     else:\n",
        "#         layers = YOLOV3_LAYER_LIST\n",
        "\n",
        "#     for layer_name in layers:\n",
        "#         sub_model = model.get_layer(layer_name)\n",
        "#         for i, layer in enumerate(sub_model.layers):\n",
        "#             if not layer.name.startswith('conv2d'):\n",
        "#                 continue\n",
        "#             batch_norm = None\n",
        "#             if i + 1 < len(sub_model.layers) and \\\n",
        "#                     sub_model.layers[i + 1].name.startswith('batch_norm'):\n",
        "#                 batch_norm = sub_model.layers[i + 1]\n",
        "\n",
        "#             logging.info(\"{}/{} {}\".format(\n",
        "#                 sub_model.name, layer.name, 'bn' if batch_norm else 'bias'))\n",
        "\n",
        "#             filters = layer.filters\n",
        "#             size = layer.kernel_size[0]\n",
        "#             in_dim = layer.input_shape[-1]\n",
        "\n",
        "#             if batch_norm is None:\n",
        "#                 conv_bias = np.fromfile(wf, dtype=np.float32, count=filters)\n",
        "#             else:\n",
        "#                 # darknet [beta, gamma, mean, variance]\n",
        "#                 bn_weights = np.fromfile(\n",
        "#                     wf, dtype=np.float32, count=4 * filters)\n",
        "#                 # tf [gamma, beta, mean, variance]\n",
        "#                 bn_weights = bn_weights.reshape((4, filters))[[1, 0, 2, 3]]\n",
        "\n",
        "#             # darknet shape (out_dim, in_dim, height, width)\n",
        "#             conv_shape = (filters, in_dim, size, size)\n",
        "#             conv_weights = np.fromfile(\n",
        "#                 wf, dtype=np.float32, count=np.product(conv_shape))\n",
        "#             # tf shape (height, width, in_dim, out_dim)\n",
        "#             conv_weights = conv_weights.reshape(\n",
        "#                 conv_shape).transpose([2, 3, 1, 0])\n",
        "\n",
        "#             if batch_norm is None:\n",
        "#                 layer.set_weights([conv_weights, conv_bias])\n",
        "#             else:\n",
        "#                 layer.set_weights([conv_weights])\n",
        "#                 batch_norm.set_weights(bn_weights)\n",
        "\n",
        "#     # assert len(wf.read()) == 0, 'failed to read all data'\n",
        "#     wf.close()"
      ],
      "execution_count": 0,
      "outputs": []
    },
    {
      "cell_type": "code",
      "metadata": {
        "id": "vsm01n3muN2j",
        "colab_type": "code",
        "colab": {}
      },
      "source": [
        "output_1, output_2, output_3 = 'yolo_output_0', 'yolo_output_1', 'yolo_output_2'\n",
        "%matplotlib inline\n",
        "def plot_loss(his, epoch, title):\n",
        "    plt.style.use('ggplot')\n",
        "    plt.figure(figsize=(10,10)) \n",
        "    plt.plot(np.arange(0, epoch), his.history['loss'], 'k', label='train_loss')\n",
        "    plt.plot(np.arange(0, epoch), his.history['val_loss'], 'k--', label='val_loss')\n",
        "    plt.plot(np.arange(0, epoch), his.history[f'{output_1}_loss'], 'r', label=f'train_{output_1}')\n",
        "    plt.plot(np.arange(0, epoch), his.history[f'{output_2}_loss'], 'g', label=f'train_{output_2}')\n",
        "    plt.plot(np.arange(0, epoch), his.history[f'{output_3}_loss'], 'b', label=f'train_{output_3}')\n",
        "    \n",
        "    plt.plot(np.arange(0, epoch), his.history[f'val_{output_1}_loss'], 'r--', label=f'val_{output_1}')\n",
        "    plt.plot(np.arange(0, epoch), his.history[f'val_{output_2}_loss'], 'g--', label=f'val_{output_2}')\n",
        "    plt.plot(np.arange(0, epoch), his.history[f'val_{output_3}_loss'], 'b--', label=f'val_{output_3}')\n",
        "    \n",
        "    plt.title(title)\n",
        "    plt.xlabel('Epoch #')\n",
        "    plt.ylabel('Loss')\n",
        "    plt.legend(loc='upper right')\n",
        "    plt.show()\n",
        "\n",
        "def plot_acc(his, epoch, title):\n",
        "    plt.style.use('ggplot')\n",
        "    plt.figure(figsize=(10,10))\n",
        "    plt.yticks(np.arange(0.1,1.05,0.01))\n",
        "    plt.xticks(np.arange(0,61,1))\n",
        "    plt.plot(np.arange(0, epoch), his.history[f'{output_1}_accuracy'], 'r', label=f'train_{output_1}')\n",
        "    plt.plot(np.arange(0, epoch), his.history[f'{output_2}_accuracy'], 'g', label=f'train_{output_2}')\n",
        "    plt.plot(np.arange(0, epoch), his.history[f'{output_3}_accuracy'], 'b', label=f'train_{output_3}')\n",
        "    \n",
        "    plt.plot(np.arange(0, epoch), his.history[f'val_{output_1}_accuracy'], 'r--', label=f'val_{output_1}')\n",
        "    plt.plot(np.arange(0, epoch), his.history[f'val_{output_2}_accuracy'], 'g--', label=f'val_{output_2}')\n",
        "    plt.plot(np.arange(0, epoch), his.history[f'val_{output_3}_accuracy'], 'b--', label=f'val_{output_3}')\n",
        "    plt.title(title)\n",
        "    plt.xlabel('Epoch #')\n",
        "    plt.ylabel('Accuracy')\n",
        "    plt.legend(loc='lower right')\n",
        "    plt.show()"
      ],
      "execution_count": 0,
      "outputs": []
    },
    {
      "cell_type": "code",
      "metadata": {
        "id": "q72weSv-dEcF",
        "colab_type": "code",
        "colab": {
          "base_uri": "https://localhost:8080/",
          "height": 245
        },
        "outputId": "afec4303-bd8f-49a0-c0d4-7ae03da386dc"
      },
      "source": [
        "plot_acc(history, epoch_num, 'Training Dataset: ')\n",
        "plot_loss(history, epoch_num, 'Training Dataset: ')\n",
        "\n",
        "plt.figure()\n",
        "plt.plot(history.epoch, history.history['lr'])"
      ],
      "execution_count": 19,
      "outputs": [
        {
          "output_type": "error",
          "ename": "NameError",
          "evalue": "ignored",
          "traceback": [
            "\u001b[0;31m---------------------------------------------------------------------------\u001b[0m",
            "\u001b[0;31mNameError\u001b[0m                                 Traceback (most recent call last)",
            "\u001b[0;32m<ipython-input-19-7ff544c63e80>\u001b[0m in \u001b[0;36m<module>\u001b[0;34m()\u001b[0m\n\u001b[0;32m----> 1\u001b[0;31m \u001b[0mplot_acc\u001b[0m\u001b[0;34m(\u001b[0m\u001b[0mhistory\u001b[0m\u001b[0;34m,\u001b[0m \u001b[0mepoch_num\u001b[0m\u001b[0;34m,\u001b[0m \u001b[0;34m'Training Dataset: '\u001b[0m\u001b[0;34m)\u001b[0m\u001b[0;34m\u001b[0m\u001b[0;34m\u001b[0m\u001b[0m\n\u001b[0m\u001b[1;32m      2\u001b[0m \u001b[0mplot_loss\u001b[0m\u001b[0;34m(\u001b[0m\u001b[0mhistory\u001b[0m\u001b[0;34m,\u001b[0m \u001b[0mepoch_num\u001b[0m\u001b[0;34m,\u001b[0m \u001b[0;34m'Training Dataset: '\u001b[0m\u001b[0;34m)\u001b[0m\u001b[0;34m\u001b[0m\u001b[0;34m\u001b[0m\u001b[0m\n\u001b[1;32m      3\u001b[0m \u001b[0;34m\u001b[0m\u001b[0m\n\u001b[1;32m      4\u001b[0m \u001b[0mplt\u001b[0m\u001b[0;34m.\u001b[0m\u001b[0mfigure\u001b[0m\u001b[0;34m(\u001b[0m\u001b[0;34m)\u001b[0m\u001b[0;34m\u001b[0m\u001b[0;34m\u001b[0m\u001b[0m\n\u001b[1;32m      5\u001b[0m \u001b[0mplt\u001b[0m\u001b[0;34m.\u001b[0m\u001b[0mplot\u001b[0m\u001b[0;34m(\u001b[0m\u001b[0mhistory\u001b[0m\u001b[0;34m.\u001b[0m\u001b[0mepoch\u001b[0m\u001b[0;34m,\u001b[0m \u001b[0mhistory\u001b[0m\u001b[0;34m.\u001b[0m\u001b[0mhistory\u001b[0m\u001b[0;34m[\u001b[0m\u001b[0;34m'lr'\u001b[0m\u001b[0;34m]\u001b[0m\u001b[0;34m)\u001b[0m\u001b[0;34m\u001b[0m\u001b[0;34m\u001b[0m\u001b[0m\n",
            "\u001b[0;31mNameError\u001b[0m: name 'history' is not defined"
          ]
        }
      ]
    },
    {
      "cell_type": "code",
      "metadata": {
        "id": "otxU2CN_S8N_",
        "colab_type": "code",
        "colab": {}
      },
      "source": [
        ""
      ],
      "execution_count": 0,
      "outputs": []
    },
    {
      "cell_type": "code",
      "metadata": {
        "id": "h8i_w-C1SPEf",
        "colab_type": "code",
        "colab": {}
      },
      "source": [
        ""
      ],
      "execution_count": 0,
      "outputs": []
    },
    {
      "cell_type": "code",
      "metadata": {
        "id": "EEC2BlC4TeS7",
        "colab_type": "code",
        "colab": {}
      },
      "source": [
        ""
      ],
      "execution_count": 0,
      "outputs": []
    }
  ]
}